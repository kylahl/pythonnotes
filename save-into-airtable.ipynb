#look over script that Rachel saves into airtable: prc-hpted/airtable-management/franklin-ave-mission-data.ipynb
